{
 "cells": [
  {
   "cell_type": "markdown",
   "id": "d4a48dbd",
   "metadata": {},
   "source": [
    "<h1>Lending Club Case Study</h1>"
   ]
  },
  {
   "cell_type": "code",
   "execution_count": 104,
   "id": "213e741f",
   "metadata": {},
   "outputs": [],
   "source": [
    "import pandas as pd\n",
    "import matplotlib.pyplot as plt\n",
    "import seaborn as sns\n",
    "import warnings\n",
    "warnings.filterwarnings('ignore')"
   ]
  },
  {
   "cell_type": "markdown",
   "id": "408512f2",
   "metadata": {},
   "source": [
    "<h2>1. Data Cleaning and Manipulation</h2>"
   ]
  },
  {
   "cell_type": "code",
   "execution_count": 105,
   "id": "47024d3a",
   "metadata": {},
   "outputs": [
    {
     "data": {
      "text/plain": [
       "(39717, 111)"
      ]
     },
     "execution_count": 105,
     "metadata": {},
     "output_type": "execute_result"
    }
   ],
   "source": [
    "# Read the Excel file into a DataFrame\n",
    "raw_data = pd.read_csv(\"loan.csv\")\n",
    "raw_data.shape"
   ]
  },
  {
   "cell_type": "markdown",
   "id": "4aab1bf7",
   "metadata": {},
   "source": [
    "<b>Drop Columns that has all null</b>"
   ]
  },
  {
   "cell_type": "code",
   "execution_count": 106,
   "id": "9ba24cf4",
   "metadata": {},
   "outputs": [
    {
     "name": "stdout",
     "output_type": "stream",
     "text": [
      "Number of Null columns dropped 54\n"
     ]
    },
    {
     "data": {
      "text/plain": [
       "(39717, 57)"
      ]
     },
     "execution_count": 106,
     "metadata": {},
     "output_type": "execute_result"
    }
   ],
   "source": [
    "columns = raw_data.isna().sum()\n",
    "nullcolumns = columns[columns == 39717].index.tolist()\n",
    "#print(\"List of Null Columns \", nullcolumns)\n",
    "print(\"Number of Null columns dropped\", len(nullcolumns))\n",
    "raw_data = raw_data.drop(nullcolumns, axis=1)\n",
    "raw_data.shape"
   ]
  },
  {
   "cell_type": "markdown",
   "id": "4957c280",
   "metadata": {},
   "source": [
    "<b>Drop Columns that has same value across all rows</b>"
   ]
  },
  {
   "cell_type": "code",
   "execution_count": 107,
   "id": "ef8a747c",
   "metadata": {},
   "outputs": [
    {
     "name": "stdout",
     "output_type": "stream",
     "text": [
      "Number of duplicate columns dropped 9\n"
     ]
    },
    {
     "data": {
      "text/plain": [
       "(39717, 48)"
      ]
     },
     "execution_count": 107,
     "metadata": {},
     "output_type": "execute_result"
    }
   ],
   "source": [
    "dupcolumns = [column for column in raw_data.columns if raw_data[column].nunique()==1]\n",
    "#print(\"List of Duplicate Columns \", dupcolumns)\n",
    "print(\"Number of duplicate columns dropped\", len(dupcolumns))\n",
    "raw_data = raw_data.drop(dupcolumns, axis=1)\n",
    "raw_data.shape"
   ]
  },
  {
   "cell_type": "markdown",
   "id": "77cd6a45",
   "metadata": {},
   "source": [
    "<b>Remove other columns which is not relevant for the analysis</b>"
   ]
  },
  {
   "cell_type": "code",
   "execution_count": 108,
   "id": "a80c3faf",
   "metadata": {},
   "outputs": [
    {
     "data": {
      "text/plain": [
       "(39717, 38)"
      ]
     },
     "execution_count": 108,
     "metadata": {},
     "output_type": "execute_result"
    }
   ],
   "source": [
    "raw_data = raw_data.drop([\"id\", \"member_id\",\"funded_amnt\", \"funded_amnt_inv\", \"emp_title\", \"url\", \"desc\", \"title\", \"next_pymnt_d\", \"last_pymnt_d\"], axis=1)\n",
    "raw_data.shape"
   ]
  },
  {
   "cell_type": "markdown",
   "id": "cfeffae6",
   "metadata": {},
   "source": [
    "<b>Impute Values</b>"
   ]
  },
  {
   "cell_type": "code",
   "execution_count": 109,
   "id": "ef167379",
   "metadata": {},
   "outputs": [
    {
     "data": {
      "text/plain": [
       "loan_amnt                   0\n",
       "term_in_months              0\n",
       "int_rate                    0\n",
       "installment                 0\n",
       "grade                       0\n",
       "sub_grade                   0\n",
       "years_of_exp                0\n",
       "home_ownership              0\n",
       "annual_inc                  0\n",
       "verification_status         0\n",
       "issue_d                     0\n",
       "loan_status                 0\n",
       "purpose                     0\n",
       "zip_code                    0\n",
       "addr_state                  0\n",
       "dti                         0\n",
       "delinq_2yrs                 0\n",
       "earliest_cr_line            0\n",
       "inq_last_6mths              0\n",
       "mths_since_last_delinq      0\n",
       "mths_since_last_record      0\n",
       "open_acc                    0\n",
       "pub_rec                     0\n",
       "revol_bal                   0\n",
       "revol_util_in_percent      50\n",
       "total_acc                   0\n",
       "out_prncp                   0\n",
       "out_prncp_inv               0\n",
       "total_pymnt                 0\n",
       "total_pymnt_inv             0\n",
       "total_rec_prncp             0\n",
       "total_rec_int               0\n",
       "total_rec_late_fee          0\n",
       "recoveries                  0\n",
       "collection_recovery_fee     0\n",
       "last_pymnt_amnt             0\n",
       "last_credit_pull_d          2\n",
       "pub_rec_bankruptcies        0\n",
       "dtype: int64"
      ]
     },
     "execution_count": 109,
     "metadata": {},
     "output_type": "execute_result"
    }
   ],
   "source": [
    "# Fill all 'NA' values\n",
    "raw_data['mths_since_last_delinq'] = raw_data['mths_since_last_delinq'].fillna(0)\n",
    "raw_data['emp_length'] = raw_data['emp_length'].fillna(0)\n",
    "raw_data['pub_rec_bankruptcies'] = raw_data['pub_rec_bankruptcies'].fillna(0)\n",
    "raw_data['mths_since_last_record'] = raw_data['mths_since_last_record'].fillna(0)\n",
    "raw_data['revol_util'] = raw_data['revol_util'].fillna(0)\n",
    "\n",
    "# Replace values in few columns and change type from object to int/float64\n",
    "raw_data['term'] = raw_data['term'].str.replace(' months', '')\n",
    "raw_data['term'] = raw_data['term'].astype('int64')\n",
    "raw_data['int_rate'] = raw_data['int_rate'].str.replace('%', '')\n",
    "raw_data['int_rate'] = raw_data['int_rate'].astype('float64')\n",
    "raw_data['revol_util'] = raw_data['revol_util'].str.replace('%', '')\n",
    "raw_data['revol_util'] = raw_data['revol_util'].astype('float64')\n",
    "raw_data['emp_length'] = raw_data['emp_length'].str.replace('10\\+ years', '10')\n",
    "raw_data['emp_length'] = raw_data['emp_length'].str.replace(' years', '')\n",
    "raw_data['emp_length'] = raw_data['emp_length'].str.replace(' year', '')\n",
    "raw_data['emp_length'] = raw_data['emp_length'].str.replace('< 1', '0.5')\n",
    "raw_data['emp_length'] = raw_data['emp_length'].astype('float64')\n",
    "raw_data['emp_length'] = raw_data['emp_length'].fillna(0)\n",
    "raw_data = raw_data.rename(columns={'term': 'term_in_months', 'revol_util': 'revol_util_in_percent', 'emp_length':'years_of_exp'})\n",
    "raw_data.isna().sum()"
   ]
  },
  {
   "cell_type": "code",
   "execution_count": 112,
   "id": "8a8c6fa5",
   "metadata": {},
   "outputs": [
    {
     "data": {
      "text/plain": [
       "(38577, 38)"
      ]
     },
     "execution_count": 112,
     "metadata": {},
     "output_type": "execute_result"
    }
   ],
   "source": [
    "lc_analysis_data = raw_data[raw_data.loan_status != \"Current\"]\n",
    "lc_analysis_data.shape"
   ]
  },
  {
   "cell_type": "markdown",
   "id": "ec5938b5",
   "metadata": {},
   "source": [
    "<b>Removing Outliers</b>"
   ]
  },
  {
   "cell_type": "code",
   "execution_count": 119,
   "id": "04c45cd8",
   "metadata": {},
   "outputs": [
    {
     "data": {
      "text/plain": [
       "<Axes: >"
      ]
     },
     "execution_count": 119,
     "metadata": {},
     "output_type": "execute_result"
    },
    {
     "data": {
      "image/png": "[encoded data removed]",
      "text/plain": [
       "<Figure size 640x480 with 1 Axes>"
      ]
     },
     "metadata": {},
     "output_type": "display_data"
    }
   ],
   "source": [
    "lc_analysis_data = lc_analysis_data[lc_analysis_data.annual_inc <= lc_analysis_data['annual_inc'].quantile(0.95)]\n",
    "sns.boxplot(lc_analysis_data.annual_inc)"
   ]
  },
  {
   "cell_type": "code",
   "execution_count": 121,
   "id": "28294199",
   "metadata": {},
   "outputs": [
    {
     "data": {
      "text/plain": [
       "<Axes: >"
      ]
     },
     "execution_count": 121,
     "metadata": {},
     "output_type": "execute_result"
    },
    {
     "data": {
      "image/png": "[encoded data removed]",
      "text/plain": [
       "<Figure size 640x480 with 1 Axes>"
      ]
     },
     "metadata": {},
     "output_type": "display_data"
    }
   ],
   "source": [
    "sns.boxplot(lc_analysis_data.loan_amnt)"
   ]
  },
  {
   "cell_type": "markdown",
   "id": "60117281",
   "metadata": {},
   "source": [
    "<h2>2. Data analysis</h2>"
   ]
  },
  {
   "cell_type": "code",
   "execution_count": null,
   "id": "cff88e92",
   "metadata": {},
   "outputs": [],
   "source": []
  },
  {
   "cell_type": "code",
   "execution_count": null,
   "id": "6d7d3b2e",
   "metadata": {},
   "outputs": [],
   "source": []
  }
 ],
 "metadata": {
  "kernelspec": {
   "display_name": "Python 3 (ipykernel)",
   "language": "python",
   "name": "python3"
  },
  "language_info": {
   "codemirror_mode": {
    "name": "ipython",
    "version": 3
   },
   "file_extension": ".py",
   "mimetype": "text/x-python",
   "name": "python",
   "nbconvert_exporter": "python",
   "pygments_lexer": "ipython3",
   "version": "3.11.3"
  }
 },
 "nbformat": 4,
 "nbformat_minor": 5
}
